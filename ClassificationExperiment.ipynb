{
 "cells": [
  {
   "cell_type": "code",
   "execution_count": 160,
   "metadata": {
    "collapsed": true
   },
   "outputs": [],
   "source": [
    "import numpy as np\n",
    "from numpy import *\n",
    "from sklearn.externals.joblib import Memory\n",
    "from sklearn.datasets import load_svmlight_file\n",
    "from sklearn.model_selection import train_test_split\n",
    "import matplotlib.pylab as plt\n",
    "from matplotlib import *\n",
    "import random"
   ]
  },
  {
   "cell_type": "code",
   "execution_count": 161,
   "metadata": {
    "collapsed": true
   },
   "outputs": [],
   "source": [
    "X_train,y_train =load_svmlight_file('a9a.txt',n_features=123)\n",
    "X_train = X_train.toarray()\n",
    "X_validation,y_validation = load_svmlight_file('a9a.t',n_features=123)\n",
    "X_validation= X_validation.toarray()"
   ]
  },
  {
   "cell_type": "code",
   "execution_count": 162,
   "metadata": {
    "collapsed": true
   },
   "outputs": [],
   "source": [
    "def loss(X,y,W,b,C):\n",
    "\tdata_loss = 0.5*np.sum( W **2 ) + C *np.sum(np.maximum(0, 1-y*(np.dot(X,W)+b) ))\n",
    "\treturn data_loss/y.size"
   ]
  },
  {
   "cell_type": "code",
   "execution_count": 163,
   "metadata": {
    "collapsed": true
   },
   "outputs": [],
   "source": [
    "def gradient(X,y,w,b,C):\n",
    "\tmargin = 1 - y * (np.dot(X,w)+b ) \n",
    "\ty_tmp = -y\n",
    "\ty_tmp[margin<0] = 0\n",
    "\tdw =  w + C / y.size *  np.dot(X.T,y_tmp)  \n",
    "\tdb = C / y.size * np.sum(y_tmp)\n",
    "\treturn dw, db"
   ]
  },
  {
   "cell_type": "code",
   "execution_count": 164,
   "metadata": {
    "collapsed": true
   },
   "outputs": [],
   "source": [
    "def NAG(xt,yt,w,b,eta,times,xv,yv,C=1,batch_size=1000):\n",
    "\tLNAG = []\n",
    "\tyy = 0.9\n",
    "\tvw = np.zeros(w.shape)\n",
    "\tvb = 0\n",
    "\tfor i in range(times):\n",
    "\t\trandom = list(set(np.random.randint(0,yt.size,size=batch_size)))\n",
    "\t\tdx = xt[random]\n",
    "\t\tdy = yt[random]\n",
    "\t\tw_gt,b_gt = gradient(dx,dy,w-yy*vw ,b-yy*vb ,C)\n",
    "\t\tvw = yy*vw + eta * w_gt\n",
    "\t\tw = w - vw\n",
    "\t\tvb = yy*vb + eta * b_gt\n",
    "\t\tb = b - vb\n",
    "\t\tLNAG.append( loss(xv,yv,w,b,C) )\n",
    "\treturn LNAG\n"
   ]
  },
  {
   "cell_type": "code",
   "execution_count": 165,
   "metadata": {
    "collapsed": true
   },
   "outputs": [],
   "source": [
    "eta=0.001\n",
    "times=700\n",
    "w = np.zeros(X_train.shape[1]).T\n",
    "b=0\n",
    "C = 50\n",
    "batch_size = 3000\n",
    "L_NAG = NAG(X_train,y_train,w,b,eta,times,X_validation,y_validation,C=C,batch_size=batch_size)"
   ]
  },
  {
   "cell_type": "code",
   "execution_count": 166,
   "metadata": {},
   "outputs": [
    {
     "data": {
      "image/png": "[encoded data removed]",
      "text/plain": [
       "<matplotlib.figure.Figure at 0x2028a385e80>"
      ]
     },
     "metadata": {},
     "output_type": "display_data"
    }
   ],
   "source": [
    "plt.plot(np.arange(num_rounds),L_NAG,\"r-\",linewidth=2,label='LNAG')\n",
    "plt.legend(loc=1)\n",
    "plt.xlabel('Irelation')\n",
    "plt.ylabel('loss')\n",
    "plt.show()"
   ]
  },
  {
   "cell_type": "code",
   "execution_count": 167,
   "metadata": {
    "collapsed": true
   },
   "outputs": [],
   "source": [
    "def RMSProp(xt,yt,w,b,alpha,num_rounds,xv,yv,C,batch_size):\n",
    "\tLRMSProp = []\n",
    "\tyy = 0.9\n",
    "\tw_Gt = np.zeros(w.shape)\n",
    "\tb_Gt = 0\n",
    "\te = 1e-9\n",
    "\tgama = 0.001\n",
    "\tfor i in range(num_rounds):\n",
    "\t\trandom = list(set(np.random.randint(0,X_train.shape[0],size=batch_size)))\n",
    "\t\tdx = X_train[random]\n",
    "\t\tdy = y_train[random]\n",
    "\t\tw_gt,b_gt = gradient(dx,dy,w,b,C=C)\n",
    "\t\tw_Gt = yy * w_Gt + (1-yy) * ( w_gt**2) \n",
    "\t\tw = w - gama / np.sqrt(w_Gt+e) * w_gt\n",
    "\t\tb_Gt = yy * b_Gt + (1-yy) * ( b_gt**2) \n",
    "\t\tb = b - gama / np.sqrt(b_Gt+e) * b_gt\n",
    "\t\tLRMSProp.append( loss(X_test,y_test,w,b,C=C) )\n",
    "\treturn LRMSProp"
   ]
  },
  {
   "cell_type": "code",
   "execution_count": 168,
   "metadata": {
    "collapsed": true
   },
   "outputs": [],
   "source": [
    "eta=0.001\n",
    "times=700\n",
    "w = np.zeros(X_train.shape[1]).T\n",
    "b=0\n",
    "C = 50\n",
    "batch_size = 3000\n",
    "L_RMSProp= RMSProp(X_train,y_train,w,b,eta,times,X_validation,y_validation,C=C,batch_size=batch_size)"
   ]
  },
  {
   "cell_type": "code",
   "execution_count": 169,
   "metadata": {},
   "outputs": [
    {
     "data": {
      "image/png": "[encoded data removed]",
      "text/plain": [
       "<matplotlib.figure.Figure at 0x2028a533828>"
      ]
     },
     "metadata": {},
     "output_type": "display_data"
    }
   ],
   "source": [
    "plt.plot(np.arange(num_rounds),L_RMSProp,\"y-\",linewidth=2,label='LRMSProp')\n",
    "plt.legend(loc=1)\n",
    "plt.xlabel('Irelation')\n",
    "plt.ylabel('loss')\n",
    "plt.show()"
   ]
  },
  {
   "cell_type": "code",
   "execution_count": 170,
   "metadata": {
    "collapsed": true
   },
   "outputs": [],
   "source": [
    "def AdaDelta(xt,yt,w,b,eta,num_rounds,xv,yv,C,batch_size):\n",
    "\ttrain_loss_history = []\n",
    "\ttest_loss_history = []\n",
    "\tyy = 0.95\n",
    "\tw_Gt = np.zeros(w.shape)\n",
    "\tb_Gt = 0\n",
    "\te = 1e-6\n",
    "\twt = np.zeros(w.shape) \n",
    "\tbt = 0\n",
    "\tfor i in range(times):\n",
    "\t\trandom = list(set(np.random.randint(0,X_train.shape[0],size=batch_size)))\n",
    "\t\tdx = X_train[random]\n",
    "\t\tdy = y_train[random]\n",
    "\t\tw_gt,b_gt = gradient(dx,dy,w,b,C)\n",
    "\t\tw_Gt = yy * w_Gt + (1-yy) * ( w_gt**2) \n",
    "\t\twdw = - ( np.sqrt(wt+e) / np.sqrt(w_Gt+e) ) * w_gt\n",
    "\t\tw = w + wdw\n",
    "\t\twt = yy * wt + (1-yy) * ( wdw**2) \n",
    "\t\tb_Gt = yy * b_Gt + (1-yy) * ( b_gt**2) \n",
    "\t\tbdw = - ( np.sqrt(bt+e) / np.sqrt(b_Gt+e) ) * b_gt\n",
    "\t\tb = b + bdw\n",
    "\t\tbt = yy * bt + (1-yy) * ( bdw**2) \n",
    "\t\ttest_loss_history.append( loss(X_test,y_test,w,b,C) )\n",
    "\treturn test_loss_history"
   ]
  },
  {
   "cell_type": "code",
   "execution_count": 171,
   "metadata": {
    "collapsed": true
   },
   "outputs": [],
   "source": [
    "eta=0.001\n",
    "times=700\n",
    "w = np.zeros(X_train.shape[1]).T\n",
    "b=0\n",
    "C = 50\n",
    "batch_size = 3000\n",
    "L_AdaDelta = AdaDelta(X_train,y_train,w,b,eta,times,X_validation,y_validation,C=C,batch_size=batch_size)"
   ]
  },
  {
   "cell_type": "code",
   "execution_count": 172,
   "metadata": {},
   "outputs": [
    {
     "data": {
      "image/png": "[encoded data removed]",
      "text/plain": [
       "<matplotlib.figure.Figure at 0x2028aee7278>"
      ]
     },
     "metadata": {},
     "output_type": "display_data"
    }
   ],
   "source": [
    "plt.plot(np.arange(num_rounds),L_AdaDelta,\"b-\",linewidth=2,label='LAdaDelta')\n",
    "plt.legend(loc=1)\n",
    "plt.xlabel('Irelation')\n",
    "plt.ylabel('loss')\n",
    "plt.show()"
   ]
  },
  {
   "cell_type": "code",
   "execution_count": 173,
   "metadata": {
    "collapsed": true
   },
   "outputs": [],
   "source": [
    "def Adam(xt,yt,w,b,eta,times,xv,yv,C,batch_size):\n",
    "\tLAdam = []\n",
    "\tbeta1 = 0.9\n",
    "\tyy = 0.999\n",
    "\tgama = 1e-3\n",
    "\te = 1e-8\t\n",
    "\twm = np.zeros(w.shape)\n",
    "\tw_Gt = np.zeros(w.shape)\n",
    "\tbm = 0\n",
    "\tb_Gt = 0\n",
    "\tfor i in range(times):\n",
    "\t\trandom = list(set(np.random.randint(0,yt.size,size=batch_size)))\n",
    "\t\tdx = xt[random]\n",
    "\t\tdy = yt[random]\n",
    "\t\tw_gt,b_gt = gradient(dx,dy,w,b,C=C)\n",
    "\t\twm = beta1 * wm + (1-beta1) * w_gt\n",
    "\t\tw_Gt = yy * w_Gt + (1-yy) * ( w_gt**2) \n",
    "\t\talp = gama * np.sqrt(1-yy**(i+1) ) / (1-beta1**(i+1) )\n",
    "\t\tw = w - alp * wm / np.sqrt(w_Gt + e)\n",
    "\t\tbm = beta1 * bm + (1-beta1) * b_gt\n",
    "\t\tb_Gt = yy * b_Gt + (1-yy) * ( b_gt**2) \n",
    "\t\talp = eta * np.sqrt(1-yy**(i+1) ) / (1-beta1**(i+1) )\n",
    "\t\tb = b - alp * bm / np.sqrt(b_Gt + e)\n",
    "\t\tLAdam.append( loss(xv,yv,w,b,C) )\n",
    "\treturn LAdam"
   ]
  },
  {
   "cell_type": "code",
   "execution_count": 174,
   "metadata": {
    "collapsed": true
   },
   "outputs": [],
   "source": [
    "eta=0.001\n",
    "times=700\n",
    "w = np.zeros(X_train.shape[1]).T\n",
    "b=0\n",
    "C = 50\n",
    "batch_size = 3000\n",
    "L_Adam = Adam(X_train,y_train,w,b,eta,times,X_validation,y_validation,C,batch_size)"
   ]
  },
  {
   "cell_type": "code",
   "execution_count": 175,
   "metadata": {},
   "outputs": [
    {
     "data": {
      "image/png": "[encoded data removed]",
      "text/plain": [
       "<matplotlib.figure.Figure at 0x2028aeccdd8>"
      ]
     },
     "metadata": {},
     "output_type": "display_data"
    }
   ],
   "source": [
    "plt.plot(np.arange(num_rounds),L_Adam,\"g-\",linewidth=2,label='LAdam')\n",
    "plt.legend(loc=1)\n",
    "plt.xlabel('Irelation')\n",
    "plt.ylabel('loss')\n",
    "plt.show()"
   ]
  },
  {
   "cell_type": "code",
   "execution_count": 176,
   "metadata": {},
   "outputs": [
    {
     "data": {
      "image/png": "[encoded data removed]",
      "text/plain": [
       "<matplotlib.figure.Figure at 0x2028aecc128>"
      ]
     },
     "metadata": {},
     "output_type": "display_data"
    }
   ],
   "source": [
    "plt.plot(np.arange(num_rounds),L_NAG,\"r-\",linewidth=2,label='LNAG')\n",
    "plt.plot(np.arange(num_rounds),L_RMSProp,\"y-\",linewidth=2,label='LRMSProp')\n",
    "plt.plot(np.arange(num_rounds),L_AdaDelta,\"b-\",linewidth=2,label='LAdaDelta')\n",
    "plt.plot(np.arange(num_rounds),L_Adam,\"g-\",linewidth=2,label='LAdam')\n",
    "plt.legend(loc=1)\n",
    "plt.xlabel('Irelation')\n",
    "plt.ylabel('loss')\n",
    "plt.show()"
   ]
  },
  {
   "cell_type": "code",
   "execution_count": 94,
   "metadata": {
    "collapsed": true
   },
   "outputs": [],
   "source": []
  },
  {
   "cell_type": "code",
   "execution_count": null,
   "metadata": {
    "collapsed": true
   },
   "outputs": [],
   "source": []
  }
 ],
 "metadata": {
  "kernelspec": {
   "display_name": "Python 3",
   "language": "python",
   "name": "python3"
  },
  "language_info": {
   "codemirror_mode": {
    "name": "ipython",
    "version": 3
   },
   "file_extension": ".py",
   "mimetype": "text/x-python",
   "name": "python",
   "nbconvert_exporter": "python",
   "pygments_lexer": "ipython3",
   "version": "3.6.3"
  }
 },
 "nbformat": 4,
 "nbformat_minor": 2
}
